{
 "cells": [
  {
   "cell_type": "markdown",
   "metadata": {},
   "source": [
    "# Data Cleaning Pratical Work 1 first_part\n",
    "Goal: Formatting\n",
    "Student: Gabriel TRUONG"
   ]
  },
  {
   "cell_type": "code",
   "execution_count": 137,
   "metadata": {},
   "outputs": [],
   "source": [
    "import pandas as pd\n",
    "import re\n",
    "import numpy as np\n",
    "import math\n",
    "import json\n",
    "import seaborn as sns "
   ]
  },
  {
   "cell_type": "code",
   "execution_count": 138,
   "metadata": {},
   "outputs": [
    {
     "data": {
      "text/plain": [
       "'1.3.4'"
      ]
     },
     "execution_count": 138,
     "metadata": {},
     "output_type": "execute_result"
    }
   ],
   "source": [
    "pd.__version__"
   ]
  },
  {
   "cell_type": "markdown",
   "metadata": {},
   "source": [
    "# Define the fake dataframe"
   ]
  },
  {
   "cell_type": "code",
   "execution_count": 139,
   "metadata": {},
   "outputs": [
    {
     "data": {
      "text/html": [
       "<div>\n",
       "<style scoped>\n",
       "    .dataframe tbody tr th:only-of-type {\n",
       "        vertical-align: middle;\n",
       "    }\n",
       "\n",
       "    .dataframe tbody tr th {\n",
       "        vertical-align: top;\n",
       "    }\n",
       "\n",
       "    .dataframe thead th {\n",
       "        text-align: right;\n",
       "    }\n",
       "</style>\n",
       "<table border=\"1\" class=\"dataframe\">\n",
       "  <thead>\n",
       "    <tr style=\"text-align: right;\">\n",
       "      <th></th>\n",
       "      <th>age</th>\n",
       "      <th>zipcode</th>\n",
       "      <th>date</th>\n",
       "      <th>price</th>\n",
       "      <th>gps</th>\n",
       "    </tr>\n",
       "  </thead>\n",
       "  <tbody>\n",
       "    <tr>\n",
       "      <th>0</th>\n",
       "      <td>24</td>\n",
       "      <td>34000</td>\n",
       "      <td>1/1/21</td>\n",
       "      <td>-3.4</td>\n",
       "      <td>[44.7, 3.9845]</td>\n",
       "    </tr>\n",
       "    <tr>\n",
       "      <th>1</th>\n",
       "      <td>24.7</td>\n",
       "      <td>34070</td>\n",
       "      <td>02-02-2021</td>\n",
       "      <td>3.4</td>\n",
       "      <td>[44.7, 3.9845]</td>\n",
       "    </tr>\n",
       "    <tr>\n",
       "      <th>2</th>\n",
       "      <td>26</td>\n",
       "      <td>epf</td>\n",
       "      <td>02-02/2021</td>\n",
       "      <td>3.4</td>\n",
       "      <td>[44.7, 3.9845]</td>\n",
       "    </tr>\n",
       "    <tr>\n",
       "      <th>3</th>\n",
       "      <td>26</td>\n",
       "      <td>34000c</td>\n",
       "      <td></td>\n",
       "      <td>5 eur</td>\n",
       "      <td>[44.7, 3.9845]</td>\n",
       "    </tr>\n",
       "    <tr>\n",
       "      <th>4</th>\n",
       "      <td>26.5</td>\n",
       "      <td>6000</td>\n",
       "      <td>epf</td>\n",
       "      <td>3000</td>\n",
       "      <td>[44.7, 3.9845]</td>\n",
       "    </tr>\n",
       "  </tbody>\n",
       "</table>\n",
       "</div>"
      ],
      "text/plain": [
       "    age zipcode        date  price             gps\n",
       "0    24   34000      1/1/21   -3.4  [44.7, 3.9845]\n",
       "1  24.7   34070  02-02-2021    3.4  [44.7, 3.9845]\n",
       "2    26     epf  02-02/2021    3.4  [44.7, 3.9845]\n",
       "3    26  34000c              5 eur  [44.7, 3.9845]\n",
       "4  26.5    6000         epf   3000  [44.7, 3.9845]"
      ]
     },
     "execution_count": 139,
     "metadata": {},
     "output_type": "execute_result"
    }
   ],
   "source": [
    "fake_df = pd.DataFrame({\n",
    "    'age': [24, 24.7, 26, '26', '26.5', '25c', 'epf', 250, 0, -22],\n",
    "    'zipcode': ['34000', 34070, 'epf', '34000c', 6000, '06000', '6000', '6000.0', 99999, 3400],\n",
    "    'date': ['1/1/21', '02-02-2021', '02-02/2021', '', 'epf', '1/2021', '2021', '1-1-1930', '1-1-2221', '31/02/2021'],\n",
    "    'price': [-3.4, 3.4, '3.4', '5 eur', '3000', '4 eur / item', 'epf', '-17.4', '-17.2', '-2.8 eur / item'],\n",
    "    'gps': [[44.7, 3.9845],[44.7, 3.9845], [44.7, 3.9845], [44.7, 3.9845], [44.7, 3.9845],\n",
    "            [44.7, 3.9845],[44.7, 3.9845], 1, '[44.7, 3.9845]', [100, 200]]\n",
    "})\n",
    "fake_df.head()\n"
   ]
  },
  {
   "cell_type": "markdown",
   "metadata": {},
   "source": [
    "# Define the target dataframe"
   ]
  },
  {
   "cell_type": "code",
   "execution_count": 140,
   "metadata": {},
   "outputs": [
    {
     "data": {
      "text/html": [
       "<div>\n",
       "<style scoped>\n",
       "    .dataframe tbody tr th:only-of-type {\n",
       "        vertical-align: middle;\n",
       "    }\n",
       "\n",
       "    .dataframe tbody tr th {\n",
       "        vertical-align: top;\n",
       "    }\n",
       "\n",
       "    .dataframe thead th {\n",
       "        text-align: right;\n",
       "    }\n",
       "</style>\n",
       "<table border=\"1\" class=\"dataframe\">\n",
       "  <thead>\n",
       "    <tr style=\"text-align: right;\">\n",
       "      <th></th>\n",
       "      <th>age</th>\n",
       "      <th>zipcode</th>\n",
       "      <th>date</th>\n",
       "      <th>price</th>\n",
       "      <th>gps</th>\n",
       "      <th>latitude</th>\n",
       "      <th>longitude</th>\n",
       "    </tr>\n",
       "  </thead>\n",
       "  <tbody>\n",
       "    <tr>\n",
       "      <th>0</th>\n",
       "      <td>24.0</td>\n",
       "      <td>34000</td>\n",
       "      <td>2021-01-01</td>\n",
       "      <td>-3.4</td>\n",
       "      <td>[44.7, 3.9845]</td>\n",
       "      <td>44.7</td>\n",
       "      <td>3.9845</td>\n",
       "    </tr>\n",
       "    <tr>\n",
       "      <th>1</th>\n",
       "      <td>25.0</td>\n",
       "      <td>34070</td>\n",
       "      <td>2021-02-02</td>\n",
       "      <td>3.4</td>\n",
       "      <td>[44.7, 3.9845]</td>\n",
       "      <td>44.7</td>\n",
       "      <td>3.9845</td>\n",
       "    </tr>\n",
       "    <tr>\n",
       "      <th>2</th>\n",
       "      <td>26.0</td>\n",
       "      <td>NaN</td>\n",
       "      <td>2021-02-02</td>\n",
       "      <td>3.4</td>\n",
       "      <td>[44.7, 3.9845]</td>\n",
       "      <td>44.7</td>\n",
       "      <td>3.9845</td>\n",
       "    </tr>\n",
       "    <tr>\n",
       "      <th>3</th>\n",
       "      <td>26.0</td>\n",
       "      <td>34000</td>\n",
       "      <td>NaT</td>\n",
       "      <td>5.0</td>\n",
       "      <td>[44.7, 3.9845]</td>\n",
       "      <td>44.7</td>\n",
       "      <td>3.9845</td>\n",
       "    </tr>\n",
       "    <tr>\n",
       "      <th>4</th>\n",
       "      <td>27.0</td>\n",
       "      <td>06000</td>\n",
       "      <td>NaT</td>\n",
       "      <td>3000.0</td>\n",
       "      <td>[44.7, 3.9845]</td>\n",
       "      <td>44.7</td>\n",
       "      <td>3.9845</td>\n",
       "    </tr>\n",
       "  </tbody>\n",
       "</table>\n",
       "</div>"
      ],
      "text/plain": [
       "    age zipcode       date   price             gps  latitude  longitude\n",
       "0  24.0   34000 2021-01-01    -3.4  [44.7, 3.9845]      44.7     3.9845\n",
       "1  25.0   34070 2021-02-02     3.4  [44.7, 3.9845]      44.7     3.9845\n",
       "2  26.0     NaN 2021-02-02     3.4  [44.7, 3.9845]      44.7     3.9845\n",
       "3  26.0   34000        NaT     5.0  [44.7, 3.9845]      44.7     3.9845\n",
       "4  27.0   06000        NaT  3000.0  [44.7, 3.9845]      44.7     3.9845"
      ]
     },
     "execution_count": 140,
     "metadata": {},
     "output_type": "execute_result"
    }
   ],
   "source": [
    "target_df = pd.DataFrame({\n",
    "    'age': [24, 25, 26, 26, 27, 25, np.nan, 250, 0, -22],\n",
    "    'zipcode': ['34000', '34070', np.nan, '34000', '06000', '06000', '06000', '06000', '99999', '03400'],\n",
    "    'date': [pd.to_datetime('2021-01-01'), pd.to_datetime('2021-02-02'), pd.to_datetime('2021-02-02'),\n",
    "             np.nan, np.nan, pd.to_datetime('2021-01-01'), pd.to_datetime('2021-01-01'),\n",
    "             pd.to_datetime('1930-01-01'), pd.to_datetime('2221-01-01'), np.nan,],\n",
    "    'price': [-3.4, 3.4, 3.4, 5, 3000, 4, np.nan, -17.4, -17.2, -2.8],\n",
    "    'gps': [[44.7, 3.9845],[44.7, 3.9845], [44.7, 3.9845], [44.7, 3.9845], [44.7, 3.9845],\n",
    "            [44.7, 3.9845],[44.7, 3.9845], np.nan, [44.7, 3.9845], [100, 200]],\n",
    "    'latitude': [44.7, 44.7, 44.7, 44.7, 44.7, 44.7, 44.7, np.nan, 44.7, 100],\n",
    "    'longitude': [3.9845, 3.9845, 3.9845, 3.9845, 3.9845, 3.9845, 3.9845, np.nan, 3.9845, 200],\n",
    "})\n",
    "target_df.head()"
   ]
  },
  {
   "cell_type": "markdown",
   "metadata": {},
   "source": [
    "with pd.to_datetime(X) the date typing for X in pandas, for example :"
   ]
  },
  {
   "cell_type": "code",
   "execution_count": 141,
   "metadata": {},
   "outputs": [
    {
     "data": {
      "text/plain": [
       "Timestamp('2021-01-01 00:00:00')"
      ]
     },
     "execution_count": 141,
     "metadata": {},
     "output_type": "execute_result"
    }
   ],
   "source": [
    "pd.to_datetime('1-1-2021')"
   ]
  },
  {
   "cell_type": "markdown",
   "metadata": {},
   "source": [
    "Note the responsability of Fomating = data in the right format (nothing else):"
   ]
  },
  {
   "cell_type": "markdown",
   "metadata": {},
   "source": [
    "Also note that 99999, 3400 are to be understood '99999', '03400', there is no reason to think it is a mistake (at least for now)"
   ]
  },
  {
   "cell_type": "markdown",
   "metadata": {},
   "source": [
    "same for non usual ages, and non usual gps"
   ]
  },
  {
   "cell_type": "markdown",
   "metadata": {},
   "source": [
    "# Steps to have the target dataframe from the original"
   ]
  },
  {
   "cell_type": "markdown",
   "metadata": {},
   "source": [
    "For age : remove special non numerical (let - and .); if there is no remaining charact, then the age is missing; round to the upper int"
   ]
  },
  {
   "cell_type": "markdown",
   "metadata": {},
   "source": [
    "For prices : same as age, but without round/integer"
   ]
  },
  {
   "cell_type": "markdown",
   "metadata": {},
   "source": [
    "For zipcodes : same as age, with tyîng as str and filling with additional leading zeroes if less than 5 charac "
   ]
  },
  {
   "cell_type": "markdown",
   "metadata": {},
   "source": [
    "For date : make pandas understand that these str are dates"
   ]
  },
  {
   "cell_type": "markdown",
   "metadata": {},
   "source": [
    "For gps : make sure and transform  to list then split to additionnal columns, lat and long"
   ]
  },
  {
   "cell_type": "markdown",
   "metadata": {},
   "source": [
    "# Implementation"
   ]
  },
  {
   "cell_type": "markdown",
   "metadata": {},
   "source": [
    "## For age"
   ]
  },
  {
   "cell_type": "markdown",
   "metadata": {},
   "source": [
    "### Remove non float part of a str"
   ]
  },
  {
   "cell_type": "markdown",
   "metadata": {},
   "source": [
    "We convert the df to a list just for the first examples."
   ]
  },
  {
   "cell_type": "code",
   "execution_count": 142,
   "metadata": {},
   "outputs": [
    {
     "data": {
      "text/plain": [
       "([24, 24.7, 26, '26', '26.5', '25c', 'epf', 250, 0, -22],\n",
       " [24.0, 25.0, 26.0, 26.0, 27.0, 25.0, nan, 250.0, 0.0, -22.0])"
      ]
     },
     "execution_count": 142,
     "metadata": {},
     "output_type": "execute_result"
    }
   ],
   "source": [
    "list_age=fake_df['age'].to_list()\n",
    "list_age1=target_df['age'].to_list()\n",
    "list_age, list_age1"
   ]
  },
  {
   "cell_type": "code",
   "execution_count": 143,
   "metadata": {},
   "outputs": [],
   "source": [
    "# create a function ton remove non float values\n",
    "def removeNonFloat(value=[]):\n",
    "    new_list = [re.sub('[^0-9.-]', \"\", str(val)) for val in value]\n",
    "    \n",
    "\n",
    "    return new_list\n",
    "    "
   ]
  },
  {
   "cell_type": "code",
   "execution_count": 144,
   "metadata": {},
   "outputs": [
    {
     "data": {
      "text/plain": [
       "['24', '24.7', '26', '26', '26.5', '25', '', '250', '0', '-22']"
      ]
     },
     "execution_count": 144,
     "metadata": {},
     "output_type": "execute_result"
    }
   ],
   "source": [
    "# apply the function on the list of age\n",
    "list_age=removeNonFloat(list_age)\n",
    "list_age"
   ]
  },
  {
   "cell_type": "markdown",
   "metadata": {},
   "source": [
    "### Get it as a float, taking care of missing values"
   ]
  },
  {
   "cell_type": "code",
   "execution_count": 145,
   "metadata": {},
   "outputs": [],
   "source": [
    "# move str to float\n",
    "def convertFloat(value=[]):\n",
    "    value = [float(val) if val !='' else np.nan for val in value]\n",
    "    #value = [int(val) for val in value]\n",
    "    return value\n",
    "\n"
   ]
  },
  {
   "cell_type": "code",
   "execution_count": 146,
   "metadata": {},
   "outputs": [
    {
     "data": {
      "text/plain": [
       "([24.0, 24.7, 26.0, 26.0, 26.5, 25.0, nan, 250.0, 0.0, -22.0], float)"
      ]
     },
     "execution_count": 146,
     "metadata": {},
     "output_type": "execute_result"
    }
   ],
   "source": [
    "#move all age as float and show age\n",
    "list_age = convertFloat(list_age)\n",
    "list_age,type(list_age[1])"
   ]
  },
  {
   "cell_type": "markdown",
   "metadata": {},
   "source": [
    "### Round it and get it as int\n",
    "We don't round it because we convert to int directly"
   ]
  },
  {
   "cell_type": "code",
   "execution_count": 147,
   "metadata": {},
   "outputs": [
    {
     "data": {
      "text/plain": [
       "(True, False)"
      ]
     },
     "execution_count": 147,
     "metadata": {},
     "output_type": "execute_result"
    }
   ],
   "source": [
    "#tips\n",
    "np.isnan(np.nan), np.isnan(7)"
   ]
  },
  {
   "cell_type": "code",
   "execution_count": 148,
   "metadata": {},
   "outputs": [],
   "source": [
    "#dev a specific function\n",
    "def convertInt(df,colname='age'):\n",
    "    df[colname]=np.floor(pd.to_numeric(df[colname], errors='coerce')).astype('Int64')\n",
    "    return df\n",
    "    \n"
   ]
  },
  {
   "cell_type": "code",
   "execution_count": 149,
   "metadata": {},
   "outputs": [
    {
     "data": {
      "text/plain": [
       "0      24\n",
       "1      24\n",
       "2      26\n",
       "3      26\n",
       "4      26\n",
       "5    <NA>\n",
       "6    <NA>\n",
       "7     250\n",
       "8       0\n",
       "9     -22\n",
       "Name: age, dtype: Int64"
      ]
     },
     "execution_count": 149,
     "metadata": {},
     "output_type": "execute_result"
    }
   ],
   "source": [
    "#use it and show the result\n",
    "fake_df=convertInt(fake_df,'age')\n",
    "fake_df['age']"
   ]
  },
  {
   "cell_type": "markdown",
   "metadata": {},
   "source": [
    "### Note If there is one float (np.nan), pandas will consider all column (Series) as float **NOT USED BECAUSE DONE PREVIOUSLY**"
   ]
  },
  {
   "cell_type": "code",
   "execution_count": 150,
   "metadata": {},
   "outputs": [
    {
     "data": {
      "text/plain": [
       "0    1.0\n",
       "1    2.0\n",
       "2    3.1\n",
       "dtype: float64"
      ]
     },
     "execution_count": 150,
     "metadata": {},
     "output_type": "execute_result"
    }
   ],
   "source": [
    "#tips\n",
    "pd.Series([1, 2, 3.1])"
   ]
  },
  {
   "cell_type": "code",
   "execution_count": 151,
   "metadata": {},
   "outputs": [],
   "source": [
    "#pd.Series(YOUR AGE rounded)\n"
   ]
  },
  {
   "cell_type": "markdown",
   "metadata": {},
   "source": [
    "Be sure it is an integer of 64 bits"
   ]
  },
  {
   "cell_type": "code",
   "execution_count": 152,
   "metadata": {},
   "outputs": [],
   "source": [
    "#dev the function"
   ]
  },
  {
   "cell_type": "markdown",
   "metadata": {},
   "source": [
    "### Wrap all in one function : format_age"
   ]
  },
  {
   "cell_type": "code",
   "execution_count": 153,
   "metadata": {},
   "outputs": [],
   "source": [
    "def format_age(df,colname='age'):\n",
    "    \"\"\"Format the age column of the DataFrame\n",
    "\n",
    "    Args: \n",
    "        -df: DataFrame\n",
    "        -non positional argument colname: name of the column (ie. age)\n",
    "    \n",
    "    Return:\n",
    "        -df formatted\"\"\"\n",
    "        \n",
    "    df[colname] = np.array([re.sub('[^0-9.-]', \"\", str(val)) for val in df[colname]])\n",
    "    df[colname] = np.array([float(val) if val !='' else np.nan for val in df[colname]])\n",
    "    df[colname]=np.floor(pd.to_numeric(df[colname], errors='coerce')).astype('Int64')\n",
    "    #print(df[colname])\n",
    "    return df\n",
    "    \n",
    "\n",
    "    "
   ]
  },
  {
   "cell_type": "code",
   "execution_count": 154,
   "metadata": {},
   "outputs": [
    {
     "data": {
      "text/plain": [
       "0      24\n",
       "1      24\n",
       "2      26\n",
       "3      26\n",
       "4      26\n",
       "5    <NA>\n",
       "6    <NA>\n",
       "7     250\n",
       "8       0\n",
       "9     -22\n",
       "Name: age, dtype: Int64"
      ]
     },
     "execution_count": 154,
     "metadata": {},
     "output_type": "execute_result"
    }
   ],
   "source": [
    "format_age(fake_df)\n",
    "fake_df['age']\n"
   ]
  },
  {
   "cell_type": "markdown",
   "metadata": {},
   "source": [
    "## For price"
   ]
  },
  {
   "cell_type": "markdown",
   "metadata": {},
   "source": [
    "Same as age, but without the rounding"
   ]
  },
  {
   "cell_type": "markdown",
   "metadata": {},
   "source": [
    "### Wrap all in on function : format_price"
   ]
  },
  {
   "cell_type": "code",
   "execution_count": 155,
   "metadata": {},
   "outputs": [],
   "source": [
    "def format_price(df,colname='price'):\n",
    "    \"\"\"Format the price column of the DataFrame\n",
    "\n",
    "    Args: \n",
    "        -df: DataFrame\n",
    "        -non positional argument colname: name of the column (ie. price)\n",
    "    \n",
    "    Return:\n",
    "        -df formatted\"\"\"\n",
    "        \n",
    "    df[colname] = np.array([re.sub('[^0-9.-]', \"\", str(val)) for val in df[colname]])\n",
    "    df[colname] = np.array([float(val) if val !='' else np.nan for val in df[colname]])\n",
    "    #print(df[colname])\n",
    "    return df"
   ]
  },
  {
   "cell_type": "code",
   "execution_count": 156,
   "metadata": {},
   "outputs": [
    {
     "data": {
      "text/plain": [
       "0      -3.4\n",
       "1       3.4\n",
       "2       3.4\n",
       "3       5.0\n",
       "4    3000.0\n",
       "5       4.0\n",
       "6       NaN\n",
       "7     -17.4\n",
       "8     -17.2\n",
       "9      -2.8\n",
       "Name: price, dtype: float64"
      ]
     },
     "execution_count": 156,
     "metadata": {},
     "output_type": "execute_result"
    }
   ],
   "source": [
    "# show the result\n",
    "format_price(fake_df)\n",
    "fake_df['price']"
   ]
  },
  {
   "cell_type": "markdown",
   "metadata": {},
   "source": [
    "## For zipcode"
   ]
  },
  {
   "cell_type": "markdown",
   "metadata": {},
   "source": [
    "Same steps as age, but with an additional step of adding a leading zero when missing"
   ]
  },
  {
   "cell_type": "markdown",
   "metadata": {},
   "source": [
    "### Fill 5 charac with leading zero with zfill"
   ]
  },
  {
   "cell_type": "code",
   "execution_count": 157,
   "metadata": {},
   "outputs": [
    {
     "data": {
      "text/plain": [
       "('00123', '00nan')"
      ]
     },
     "execution_count": 157,
     "metadata": {},
     "output_type": "execute_result"
    }
   ],
   "source": [
    "'123'.zfill(5), str(np.nan).zfill(5)"
   ]
  },
  {
   "cell_type": "code",
   "execution_count": 158,
   "metadata": {},
   "outputs": [],
   "source": [
    "#dev the function fill_5_characters_with_leading_zero\n",
    "def fill_characters(value=[]):\n",
    "    value=[str(val).zfill(5) for val in value]\n",
    "\n",
    "    return value"
   ]
  },
  {
   "cell_type": "code",
   "execution_count": 159,
   "metadata": {},
   "outputs": [],
   "source": [
    "testing_list = ['457', 457,  57.4,np.nan]"
   ]
  },
  {
   "cell_type": "code",
   "execution_count": 160,
   "metadata": {},
   "outputs": [
    {
     "data": {
      "text/plain": [
       "['00457', '00457', '057.4', '00nan']"
      ]
     },
     "execution_count": 160,
     "metadata": {},
     "output_type": "execute_result"
    }
   ],
   "source": [
    "testing_list=fill_characters(testing_list)\n",
    "testing_list"
   ]
  },
  {
   "cell_type": "code",
   "execution_count": 161,
   "metadata": {},
   "outputs": [],
   "source": [
    "#[fill_5_characters_with_leading_zero(x) for x in testing_list]"
   ]
  },
  {
   "cell_type": "markdown",
   "metadata": {},
   "source": [
    "### Wrap all in one function : format_zipcode"
   ]
  },
  {
   "cell_type": "code",
   "execution_count": 162,
   "metadata": {},
   "outputs": [],
   "source": [
    "# show the result\n",
    "def format_zipcode(df,colname='zipcode'):\n",
    "    \"\"\"Format the zipcode column of the DataFrame\n",
    "\n",
    "    Args: \n",
    "        -df: DataFrame\n",
    "        -non positional argument colname: name of the column (ie. zipcode)\n",
    "    \n",
    "    Return:\n",
    "        -df formatted\"\"\"\n",
    "\n",
    "    df[colname] = np.array([re.sub('[^0-9]', \"\", str(val)) for val in df[colname]])\n",
    "    df[colname]=  np.array([str(val).zfill(5) if (len(str(val))<5) else str(val) for val in df[colname]])\n",
    "    df[colname] = np.array([val if val !='00000' else np.nan for val in df[colname]])\n",
    "\n",
    "\n",
    "    return df"
   ]
  },
  {
   "cell_type": "code",
   "execution_count": 163,
   "metadata": {},
   "outputs": [
    {
     "data": {
      "text/plain": [
       "0    34000\n",
       "1    34070\n",
       "2      nan\n",
       "3    34000\n",
       "4    06000\n",
       "5    06000\n",
       "6    06000\n",
       "7    60000\n",
       "8    99999\n",
       "9    03400\n",
       "Name: zipcode, dtype: object"
      ]
     },
     "execution_count": 163,
     "metadata": {},
     "output_type": "execute_result"
    }
   ],
   "source": [
    "format_zipcode(fake_df)\n",
    "fake_df['zipcode']"
   ]
  },
  {
   "cell_type": "markdown",
   "metadata": {},
   "source": [
    "## For dates"
   ]
  },
  {
   "cell_type": "markdown",
   "metadata": {},
   "source": [
    "### try pd.to_datetime"
   ]
  },
  {
   "cell_type": "code",
   "execution_count": 164,
   "metadata": {},
   "outputs": [
    {
     "data": {
      "text/plain": [
       "0   2021-01-01\n",
       "1   2021-02-02\n",
       "2   2021-02-02\n",
       "3          NaT\n",
       "4          NaT\n",
       "5   2021-01-01\n",
       "6   2021-01-01\n",
       "7   1930-01-01\n",
       "8   2221-01-01\n",
       "9          NaT\n",
       "Name: date, dtype: datetime64[ns]"
      ]
     },
     "execution_count": 164,
     "metadata": {},
     "output_type": "execute_result"
    }
   ],
   "source": [
    "pd.to_datetime(fake_df['date'], errors='coerce')"
   ]
  },
  {
   "cell_type": "markdown",
   "metadata": {},
   "source": [
    "### Wrap all in one function : format_date\n"
   ]
  },
  {
   "cell_type": "code",
   "execution_count": 165,
   "metadata": {},
   "outputs": [],
   "source": [
    "#dev the function format_date\n",
    "def format_date(df,colname='date'):\n",
    "    \"\"\"Format the date column of the DataFrame\n",
    "\n",
    "    Args: \n",
    "        -df: DataFrame\n",
    "        -non positional argument colname: name of the column (ie. zipcode)\n",
    "    \n",
    "    Return:\n",
    "        -df formatted\"\"\"\n",
    "    df[colname]=pd.to_datetime(df[colname], errors='coerce')\n",
    "    return df\n"
   ]
  },
  {
   "cell_type": "code",
   "execution_count": 166,
   "metadata": {},
   "outputs": [
    {
     "data": {
      "text/plain": [
       "0   2021-01-01\n",
       "1   2021-02-02\n",
       "2   2021-02-02\n",
       "3          NaT\n",
       "4          NaT\n",
       "5   2021-01-01\n",
       "6   2021-01-01\n",
       "7   1930-01-01\n",
       "8   2221-01-01\n",
       "9          NaT\n",
       "Name: date, dtype: datetime64[ns]"
      ]
     },
     "execution_count": 166,
     "metadata": {},
     "output_type": "execute_result"
    }
   ],
   "source": [
    "format_date(fake_df)\n",
    "fake_df['date']"
   ]
  },
  {
   "cell_type": "markdown",
   "metadata": {},
   "source": [
    "## For gps"
   ]
  },
  {
   "cell_type": "markdown",
   "metadata": {},
   "source": [
    "### Make sure you have a list"
   ]
  },
  {
   "cell_type": "code",
   "execution_count": 167,
   "metadata": {},
   "outputs": [
    {
     "data": {
      "text/plain": [
       "[1, 2]"
      ]
     },
     "execution_count": 167,
     "metadata": {},
     "output_type": "execute_result"
    }
   ],
   "source": [
    "json.loads('[1, 2]')"
   ]
  },
  {
   "cell_type": "code",
   "execution_count": 168,
   "metadata": {},
   "outputs": [],
   "source": [
    "#create the function: ckeck_transform_list\n",
    "def check_transform_list(df,colname=\"gps\"):\n",
    "    df[colname] = np.array([json.loads(val) if isinstance(val,str) else val for val in df[colname]])\n",
    "    df[colname] = np.array([np.nan if isinstance(val,int) else val for val in df[colname]])\n",
    "    return df\n",
    "    "
   ]
  },
  {
   "cell_type": "code",
   "execution_count": 169,
   "metadata": {},
   "outputs": [],
   "source": [
    "testing_lists = [[1, 2], '[1, 2]', 1]"
   ]
  },
  {
   "cell_type": "code",
   "execution_count": 170,
   "metadata": {},
   "outputs": [
    {
     "name": "stderr",
     "output_type": "stream",
     "text": [
      "C:\\Users\\Gabriel\\AppData\\Local\\Temp/ipykernel_3032/209554935.py:3: VisibleDeprecationWarning: Creating an ndarray from ragged nested sequences (which is a list-or-tuple of lists-or-tuples-or ndarrays with different lengths or shapes) is deprecated. If you meant to do this, you must specify 'dtype=object' when creating the ndarray.\n",
      "  df[colname] = np.array([json.loads(val) if isinstance(val,str) else val for val in df[colname]])\n",
      "C:\\Users\\Gabriel\\AppData\\Local\\Temp/ipykernel_3032/209554935.py:4: VisibleDeprecationWarning: Creating an ndarray from ragged nested sequences (which is a list-or-tuple of lists-or-tuples-or ndarrays with different lengths or shapes) is deprecated. If you meant to do this, you must specify 'dtype=object' when creating the ndarray.\n",
      "  df[colname] = np.array([np.nan if isinstance(val,int) else val for val in df[colname]])\n"
     ]
    },
    {
     "data": {
      "text/html": [
       "<div>\n",
       "<style scoped>\n",
       "    .dataframe tbody tr th:only-of-type {\n",
       "        vertical-align: middle;\n",
       "    }\n",
       "\n",
       "    .dataframe tbody tr th {\n",
       "        vertical-align: top;\n",
       "    }\n",
       "\n",
       "    .dataframe thead th {\n",
       "        text-align: right;\n",
       "    }\n",
       "</style>\n",
       "<table border=\"1\" class=\"dataframe\">\n",
       "  <thead>\n",
       "    <tr style=\"text-align: right;\">\n",
       "      <th></th>\n",
       "      <th>age</th>\n",
       "      <th>zipcode</th>\n",
       "      <th>date</th>\n",
       "      <th>price</th>\n",
       "      <th>gps</th>\n",
       "    </tr>\n",
       "  </thead>\n",
       "  <tbody>\n",
       "    <tr>\n",
       "      <th>0</th>\n",
       "      <td>24</td>\n",
       "      <td>34000</td>\n",
       "      <td>2021-01-01</td>\n",
       "      <td>-3.4</td>\n",
       "      <td>[44.7, 3.9845]</td>\n",
       "    </tr>\n",
       "    <tr>\n",
       "      <th>1</th>\n",
       "      <td>24</td>\n",
       "      <td>34070</td>\n",
       "      <td>2021-02-02</td>\n",
       "      <td>3.4</td>\n",
       "      <td>[44.7, 3.9845]</td>\n",
       "    </tr>\n",
       "    <tr>\n",
       "      <th>2</th>\n",
       "      <td>26</td>\n",
       "      <td>nan</td>\n",
       "      <td>2021-02-02</td>\n",
       "      <td>3.4</td>\n",
       "      <td>[44.7, 3.9845]</td>\n",
       "    </tr>\n",
       "    <tr>\n",
       "      <th>3</th>\n",
       "      <td>26</td>\n",
       "      <td>34000</td>\n",
       "      <td>NaT</td>\n",
       "      <td>5.0</td>\n",
       "      <td>[44.7, 3.9845]</td>\n",
       "    </tr>\n",
       "    <tr>\n",
       "      <th>4</th>\n",
       "      <td>26</td>\n",
       "      <td>06000</td>\n",
       "      <td>NaT</td>\n",
       "      <td>3000.0</td>\n",
       "      <td>[44.7, 3.9845]</td>\n",
       "    </tr>\n",
       "    <tr>\n",
       "      <th>5</th>\n",
       "      <td>&lt;NA&gt;</td>\n",
       "      <td>06000</td>\n",
       "      <td>2021-01-01</td>\n",
       "      <td>4.0</td>\n",
       "      <td>[44.7, 3.9845]</td>\n",
       "    </tr>\n",
       "    <tr>\n",
       "      <th>6</th>\n",
       "      <td>&lt;NA&gt;</td>\n",
       "      <td>06000</td>\n",
       "      <td>2021-01-01</td>\n",
       "      <td>NaN</td>\n",
       "      <td>[44.7, 3.9845]</td>\n",
       "    </tr>\n",
       "    <tr>\n",
       "      <th>7</th>\n",
       "      <td>250</td>\n",
       "      <td>60000</td>\n",
       "      <td>1930-01-01</td>\n",
       "      <td>-17.4</td>\n",
       "      <td>NaN</td>\n",
       "    </tr>\n",
       "    <tr>\n",
       "      <th>8</th>\n",
       "      <td>0</td>\n",
       "      <td>99999</td>\n",
       "      <td>2221-01-01</td>\n",
       "      <td>-17.2</td>\n",
       "      <td>[44.7, 3.9845]</td>\n",
       "    </tr>\n",
       "    <tr>\n",
       "      <th>9</th>\n",
       "      <td>-22</td>\n",
       "      <td>03400</td>\n",
       "      <td>NaT</td>\n",
       "      <td>-2.8</td>\n",
       "      <td>[100, 200]</td>\n",
       "    </tr>\n",
       "  </tbody>\n",
       "</table>\n",
       "</div>"
      ],
      "text/plain": [
       "    age zipcode       date   price             gps\n",
       "0    24   34000 2021-01-01    -3.4  [44.7, 3.9845]\n",
       "1    24   34070 2021-02-02     3.4  [44.7, 3.9845]\n",
       "2    26     nan 2021-02-02     3.4  [44.7, 3.9845]\n",
       "3    26   34000        NaT     5.0  [44.7, 3.9845]\n",
       "4    26   06000        NaT  3000.0  [44.7, 3.9845]\n",
       "5  <NA>   06000 2021-01-01     4.0  [44.7, 3.9845]\n",
       "6  <NA>   06000 2021-01-01     NaN  [44.7, 3.9845]\n",
       "7   250   60000 1930-01-01   -17.4             NaN\n",
       "8     0   99999 2221-01-01   -17.2  [44.7, 3.9845]\n",
       "9   -22   03400        NaT    -2.8      [100, 200]"
      ]
     },
     "execution_count": 170,
     "metadata": {},
     "output_type": "execute_result"
    }
   ],
   "source": [
    "#Each element of the gps column of the df is now a list. \n",
    "check_transform_list(fake_df,colname='gps')"
   ]
  },
  {
   "cell_type": "code",
   "execution_count": 171,
   "metadata": {},
   "outputs": [],
   "source": [
    "#Not implemented that way\n",
    "#fake_df['gps'].apply(ckeck_transform_list)"
   ]
  },
  {
   "cell_type": "markdown",
   "metadata": {},
   "source": [
    "### Split gps column"
   ]
  },
  {
   "cell_type": "code",
   "execution_count": 172,
   "metadata": {},
   "outputs": [],
   "source": [
    "# get latitude and longitude\n",
    "def splitGps(df,colname='gps'):\n",
    "    df['latitude']=np.array([val[0] if isinstance(val,list) else np.nan for val in df[colname]])\n",
    "    df['longitude']=np.array([val[1] if isinstance(val,list) else np.nan for val in df[colname]])\n",
    "    return df"
   ]
  },
  {
   "cell_type": "code",
   "execution_count": 173,
   "metadata": {},
   "outputs": [
    {
     "data": {
      "text/html": [
       "<div>\n",
       "<style scoped>\n",
       "    .dataframe tbody tr th:only-of-type {\n",
       "        vertical-align: middle;\n",
       "    }\n",
       "\n",
       "    .dataframe tbody tr th {\n",
       "        vertical-align: top;\n",
       "    }\n",
       "\n",
       "    .dataframe thead th {\n",
       "        text-align: right;\n",
       "    }\n",
       "</style>\n",
       "<table border=\"1\" class=\"dataframe\">\n",
       "  <thead>\n",
       "    <tr style=\"text-align: right;\">\n",
       "      <th></th>\n",
       "      <th>age</th>\n",
       "      <th>zipcode</th>\n",
       "      <th>date</th>\n",
       "      <th>price</th>\n",
       "      <th>gps</th>\n",
       "      <th>latitude</th>\n",
       "      <th>longitude</th>\n",
       "    </tr>\n",
       "  </thead>\n",
       "  <tbody>\n",
       "    <tr>\n",
       "      <th>0</th>\n",
       "      <td>24</td>\n",
       "      <td>34000</td>\n",
       "      <td>2021-01-01</td>\n",
       "      <td>-3.4</td>\n",
       "      <td>[44.7, 3.9845]</td>\n",
       "      <td>44.7</td>\n",
       "      <td>3.9845</td>\n",
       "    </tr>\n",
       "    <tr>\n",
       "      <th>1</th>\n",
       "      <td>24</td>\n",
       "      <td>34070</td>\n",
       "      <td>2021-02-02</td>\n",
       "      <td>3.4</td>\n",
       "      <td>[44.7, 3.9845]</td>\n",
       "      <td>44.7</td>\n",
       "      <td>3.9845</td>\n",
       "    </tr>\n",
       "    <tr>\n",
       "      <th>2</th>\n",
       "      <td>26</td>\n",
       "      <td>nan</td>\n",
       "      <td>2021-02-02</td>\n",
       "      <td>3.4</td>\n",
       "      <td>[44.7, 3.9845]</td>\n",
       "      <td>44.7</td>\n",
       "      <td>3.9845</td>\n",
       "    </tr>\n",
       "    <tr>\n",
       "      <th>3</th>\n",
       "      <td>26</td>\n",
       "      <td>34000</td>\n",
       "      <td>NaT</td>\n",
       "      <td>5.0</td>\n",
       "      <td>[44.7, 3.9845]</td>\n",
       "      <td>44.7</td>\n",
       "      <td>3.9845</td>\n",
       "    </tr>\n",
       "    <tr>\n",
       "      <th>4</th>\n",
       "      <td>26</td>\n",
       "      <td>06000</td>\n",
       "      <td>NaT</td>\n",
       "      <td>3000.0</td>\n",
       "      <td>[44.7, 3.9845]</td>\n",
       "      <td>44.7</td>\n",
       "      <td>3.9845</td>\n",
       "    </tr>\n",
       "    <tr>\n",
       "      <th>5</th>\n",
       "      <td>&lt;NA&gt;</td>\n",
       "      <td>06000</td>\n",
       "      <td>2021-01-01</td>\n",
       "      <td>4.0</td>\n",
       "      <td>[44.7, 3.9845]</td>\n",
       "      <td>44.7</td>\n",
       "      <td>3.9845</td>\n",
       "    </tr>\n",
       "    <tr>\n",
       "      <th>6</th>\n",
       "      <td>&lt;NA&gt;</td>\n",
       "      <td>06000</td>\n",
       "      <td>2021-01-01</td>\n",
       "      <td>NaN</td>\n",
       "      <td>[44.7, 3.9845]</td>\n",
       "      <td>44.7</td>\n",
       "      <td>3.9845</td>\n",
       "    </tr>\n",
       "    <tr>\n",
       "      <th>7</th>\n",
       "      <td>250</td>\n",
       "      <td>60000</td>\n",
       "      <td>1930-01-01</td>\n",
       "      <td>-17.4</td>\n",
       "      <td>NaN</td>\n",
       "      <td>NaN</td>\n",
       "      <td>NaN</td>\n",
       "    </tr>\n",
       "    <tr>\n",
       "      <th>8</th>\n",
       "      <td>0</td>\n",
       "      <td>99999</td>\n",
       "      <td>2221-01-01</td>\n",
       "      <td>-17.2</td>\n",
       "      <td>[44.7, 3.9845]</td>\n",
       "      <td>44.7</td>\n",
       "      <td>3.9845</td>\n",
       "    </tr>\n",
       "    <tr>\n",
       "      <th>9</th>\n",
       "      <td>-22</td>\n",
       "      <td>03400</td>\n",
       "      <td>NaT</td>\n",
       "      <td>-2.8</td>\n",
       "      <td>[100, 200]</td>\n",
       "      <td>100.0</td>\n",
       "      <td>200.0000</td>\n",
       "    </tr>\n",
       "  </tbody>\n",
       "</table>\n",
       "</div>"
      ],
      "text/plain": [
       "    age zipcode       date   price             gps  latitude  longitude\n",
       "0    24   34000 2021-01-01    -3.4  [44.7, 3.9845]      44.7     3.9845\n",
       "1    24   34070 2021-02-02     3.4  [44.7, 3.9845]      44.7     3.9845\n",
       "2    26     nan 2021-02-02     3.4  [44.7, 3.9845]      44.7     3.9845\n",
       "3    26   34000        NaT     5.0  [44.7, 3.9845]      44.7     3.9845\n",
       "4    26   06000        NaT  3000.0  [44.7, 3.9845]      44.7     3.9845\n",
       "5  <NA>   06000 2021-01-01     4.0  [44.7, 3.9845]      44.7     3.9845\n",
       "6  <NA>   06000 2021-01-01     NaN  [44.7, 3.9845]      44.7     3.9845\n",
       "7   250   60000 1930-01-01   -17.4             NaN       NaN        NaN\n",
       "8     0   99999 2221-01-01   -17.2  [44.7, 3.9845]      44.7     3.9845\n",
       "9   -22   03400        NaT    -2.8      [100, 200]     100.0   200.0000"
      ]
     },
     "execution_count": 173,
     "metadata": {},
     "output_type": "execute_result"
    }
   ],
   "source": [
    "splitGps(fake_df)"
   ]
  },
  {
   "cell_type": "markdown",
   "metadata": {},
   "source": [
    "### Wrap all in one function : gps"
   ]
  },
  {
   "cell_type": "code",
   "execution_count": 174,
   "metadata": {},
   "outputs": [],
   "source": [
    "#Big function: format_gps\n",
    "def format_gps(df,colname='gps'):\n",
    "    \"\"\"Format the gps columns into list type and split the list in two latitude and longitude columns\n",
    "    \n",
    "    Args: \n",
    "        -df: dataframe\n",
    "        -non positional colname: name of the columns we modify\n",
    "        \n",
    "    Returns:\n",
    "        -Formatted DF\"\"\"\n",
    "    df[colname] = np.array([json.loads(val) if isinstance(val,str) else val for val in df[colname]])\n",
    "    df[colname] = np.array([np.nan if isinstance(val,int) else val for val in df[colname]])\n",
    "    df['latitude']=np.array([val[0] if isinstance(val,list) else np.nan for val in df[colname]])\n",
    "    df['longitude']=np.array([val[1] if isinstance(val,list) else np.nan for val in df[colname]])\n",
    "\n",
    "    return df\n",
    "    "
   ]
  },
  {
   "cell_type": "code",
   "execution_count": 175,
   "metadata": {},
   "outputs": [
    {
     "name": "stderr",
     "output_type": "stream",
     "text": [
      "C:\\Users\\Gabriel\\AppData\\Local\\Temp/ipykernel_3032/889001280.py:11: VisibleDeprecationWarning: Creating an ndarray from ragged nested sequences (which is a list-or-tuple of lists-or-tuples-or ndarrays with different lengths or shapes) is deprecated. If you meant to do this, you must specify 'dtype=object' when creating the ndarray.\n",
      "  df[colname] = np.array([json.loads(val) if isinstance(val,str) else val for val in df[colname]])\n",
      "C:\\Users\\Gabriel\\AppData\\Local\\Temp/ipykernel_3032/889001280.py:12: VisibleDeprecationWarning: Creating an ndarray from ragged nested sequences (which is a list-or-tuple of lists-or-tuples-or ndarrays with different lengths or shapes) is deprecated. If you meant to do this, you must specify 'dtype=object' when creating the ndarray.\n",
      "  df[colname] = np.array([np.nan if isinstance(val,int) else val for val in df[colname]])\n"
     ]
    },
    {
     "data": {
      "text/html": [
       "<div>\n",
       "<style scoped>\n",
       "    .dataframe tbody tr th:only-of-type {\n",
       "        vertical-align: middle;\n",
       "    }\n",
       "\n",
       "    .dataframe tbody tr th {\n",
       "        vertical-align: top;\n",
       "    }\n",
       "\n",
       "    .dataframe thead th {\n",
       "        text-align: right;\n",
       "    }\n",
       "</style>\n",
       "<table border=\"1\" class=\"dataframe\">\n",
       "  <thead>\n",
       "    <tr style=\"text-align: right;\">\n",
       "      <th></th>\n",
       "      <th>age</th>\n",
       "      <th>zipcode</th>\n",
       "      <th>date</th>\n",
       "      <th>price</th>\n",
       "      <th>gps</th>\n",
       "      <th>latitude</th>\n",
       "      <th>longitude</th>\n",
       "    </tr>\n",
       "  </thead>\n",
       "  <tbody>\n",
       "    <tr>\n",
       "      <th>0</th>\n",
       "      <td>24</td>\n",
       "      <td>34000</td>\n",
       "      <td>2021-01-01</td>\n",
       "      <td>-3.4</td>\n",
       "      <td>[44.7, 3.9845]</td>\n",
       "      <td>44.7</td>\n",
       "      <td>3.9845</td>\n",
       "    </tr>\n",
       "    <tr>\n",
       "      <th>1</th>\n",
       "      <td>24</td>\n",
       "      <td>34070</td>\n",
       "      <td>2021-02-02</td>\n",
       "      <td>3.4</td>\n",
       "      <td>[44.7, 3.9845]</td>\n",
       "      <td>44.7</td>\n",
       "      <td>3.9845</td>\n",
       "    </tr>\n",
       "    <tr>\n",
       "      <th>2</th>\n",
       "      <td>26</td>\n",
       "      <td>nan</td>\n",
       "      <td>2021-02-02</td>\n",
       "      <td>3.4</td>\n",
       "      <td>[44.7, 3.9845]</td>\n",
       "      <td>44.7</td>\n",
       "      <td>3.9845</td>\n",
       "    </tr>\n",
       "    <tr>\n",
       "      <th>3</th>\n",
       "      <td>26</td>\n",
       "      <td>34000</td>\n",
       "      <td>NaT</td>\n",
       "      <td>5.0</td>\n",
       "      <td>[44.7, 3.9845]</td>\n",
       "      <td>44.7</td>\n",
       "      <td>3.9845</td>\n",
       "    </tr>\n",
       "    <tr>\n",
       "      <th>4</th>\n",
       "      <td>26</td>\n",
       "      <td>06000</td>\n",
       "      <td>NaT</td>\n",
       "      <td>3000.0</td>\n",
       "      <td>[44.7, 3.9845]</td>\n",
       "      <td>44.7</td>\n",
       "      <td>3.9845</td>\n",
       "    </tr>\n",
       "    <tr>\n",
       "      <th>5</th>\n",
       "      <td>&lt;NA&gt;</td>\n",
       "      <td>06000</td>\n",
       "      <td>2021-01-01</td>\n",
       "      <td>4.0</td>\n",
       "      <td>[44.7, 3.9845]</td>\n",
       "      <td>44.7</td>\n",
       "      <td>3.9845</td>\n",
       "    </tr>\n",
       "    <tr>\n",
       "      <th>6</th>\n",
       "      <td>&lt;NA&gt;</td>\n",
       "      <td>06000</td>\n",
       "      <td>2021-01-01</td>\n",
       "      <td>NaN</td>\n",
       "      <td>[44.7, 3.9845]</td>\n",
       "      <td>44.7</td>\n",
       "      <td>3.9845</td>\n",
       "    </tr>\n",
       "    <tr>\n",
       "      <th>7</th>\n",
       "      <td>250</td>\n",
       "      <td>60000</td>\n",
       "      <td>1930-01-01</td>\n",
       "      <td>-17.4</td>\n",
       "      <td>NaN</td>\n",
       "      <td>NaN</td>\n",
       "      <td>NaN</td>\n",
       "    </tr>\n",
       "    <tr>\n",
       "      <th>8</th>\n",
       "      <td>0</td>\n",
       "      <td>99999</td>\n",
       "      <td>2221-01-01</td>\n",
       "      <td>-17.2</td>\n",
       "      <td>[44.7, 3.9845]</td>\n",
       "      <td>44.7</td>\n",
       "      <td>3.9845</td>\n",
       "    </tr>\n",
       "    <tr>\n",
       "      <th>9</th>\n",
       "      <td>-22</td>\n",
       "      <td>03400</td>\n",
       "      <td>NaT</td>\n",
       "      <td>-2.8</td>\n",
       "      <td>[100, 200]</td>\n",
       "      <td>100.0</td>\n",
       "      <td>200.0000</td>\n",
       "    </tr>\n",
       "  </tbody>\n",
       "</table>\n",
       "</div>"
      ],
      "text/plain": [
       "    age zipcode       date   price             gps  latitude  longitude\n",
       "0    24   34000 2021-01-01    -3.4  [44.7, 3.9845]      44.7     3.9845\n",
       "1    24   34070 2021-02-02     3.4  [44.7, 3.9845]      44.7     3.9845\n",
       "2    26     nan 2021-02-02     3.4  [44.7, 3.9845]      44.7     3.9845\n",
       "3    26   34000        NaT     5.0  [44.7, 3.9845]      44.7     3.9845\n",
       "4    26   06000        NaT  3000.0  [44.7, 3.9845]      44.7     3.9845\n",
       "5  <NA>   06000 2021-01-01     4.0  [44.7, 3.9845]      44.7     3.9845\n",
       "6  <NA>   06000 2021-01-01     NaN  [44.7, 3.9845]      44.7     3.9845\n",
       "7   250   60000 1930-01-01   -17.4             NaN       NaN        NaN\n",
       "8     0   99999 2221-01-01   -17.2  [44.7, 3.9845]      44.7     3.9845\n",
       "9   -22   03400        NaT    -2.8      [100, 200]     100.0   200.0000"
      ]
     },
     "execution_count": 175,
     "metadata": {},
     "output_type": "execute_result"
    }
   ],
   "source": [
    "format_gps(fake_df)"
   ]
  },
  {
   "cell_type": "markdown",
   "metadata": {},
   "source": [
    "# One function to rule them all"
   ]
  },
  {
   "cell_type": "code",
   "execution_count": 176,
   "metadata": {},
   "outputs": [],
   "source": [
    "#call everything\n",
    "def formatAll(df):\n",
    "    \"\"\"Format the entire dataframe to match the target dataframe\n",
    "    \n",
    "    Args: \n",
    "        -df: dataframe\n",
    "\n",
    "    Returns:\n",
    "        -Formatted DF\"\"\"\n",
    "    format_age(df)\n",
    "    format_price(df)\n",
    "    format_date(df)\n",
    "    format_zipcode(df)\n",
    "    format_gps(df)\n",
    "    return df"
   ]
  },
  {
   "cell_type": "code",
   "execution_count": 177,
   "metadata": {},
   "outputs": [
    {
     "name": "stderr",
     "output_type": "stream",
     "text": [
      "C:\\Users\\Gabriel\\AppData\\Local\\Temp/ipykernel_3032/889001280.py:11: VisibleDeprecationWarning: Creating an ndarray from ragged nested sequences (which is a list-or-tuple of lists-or-tuples-or ndarrays with different lengths or shapes) is deprecated. If you meant to do this, you must specify 'dtype=object' when creating the ndarray.\n",
      "  df[colname] = np.array([json.loads(val) if isinstance(val,str) else val for val in df[colname]])\n",
      "C:\\Users\\Gabriel\\AppData\\Local\\Temp/ipykernel_3032/889001280.py:12: VisibleDeprecationWarning: Creating an ndarray from ragged nested sequences (which is a list-or-tuple of lists-or-tuples-or ndarrays with different lengths or shapes) is deprecated. If you meant to do this, you must specify 'dtype=object' when creating the ndarray.\n",
      "  df[colname] = np.array([np.nan if isinstance(val,int) else val for val in df[colname]])\n"
     ]
    },
    {
     "data": {
      "text/html": [
       "<div>\n",
       "<style scoped>\n",
       "    .dataframe tbody tr th:only-of-type {\n",
       "        vertical-align: middle;\n",
       "    }\n",
       "\n",
       "    .dataframe tbody tr th {\n",
       "        vertical-align: top;\n",
       "    }\n",
       "\n",
       "    .dataframe thead th {\n",
       "        text-align: right;\n",
       "    }\n",
       "</style>\n",
       "<table border=\"1\" class=\"dataframe\">\n",
       "  <thead>\n",
       "    <tr style=\"text-align: right;\">\n",
       "      <th></th>\n",
       "      <th>age</th>\n",
       "      <th>zipcode</th>\n",
       "      <th>date</th>\n",
       "      <th>price</th>\n",
       "      <th>gps</th>\n",
       "      <th>latitude</th>\n",
       "      <th>longitude</th>\n",
       "    </tr>\n",
       "  </thead>\n",
       "  <tbody>\n",
       "    <tr>\n",
       "      <th>0</th>\n",
       "      <td>24</td>\n",
       "      <td>34000</td>\n",
       "      <td>2021-01-01</td>\n",
       "      <td>-3.4</td>\n",
       "      <td>[44.7, 3.9845]</td>\n",
       "      <td>44.7</td>\n",
       "      <td>3.9845</td>\n",
       "    </tr>\n",
       "    <tr>\n",
       "      <th>1</th>\n",
       "      <td>24</td>\n",
       "      <td>34070</td>\n",
       "      <td>2021-02-02</td>\n",
       "      <td>3.4</td>\n",
       "      <td>[44.7, 3.9845]</td>\n",
       "      <td>44.7</td>\n",
       "      <td>3.9845</td>\n",
       "    </tr>\n",
       "    <tr>\n",
       "      <th>2</th>\n",
       "      <td>26</td>\n",
       "      <td>nan</td>\n",
       "      <td>2021-02-02</td>\n",
       "      <td>3.4</td>\n",
       "      <td>[44.7, 3.9845]</td>\n",
       "      <td>44.7</td>\n",
       "      <td>3.9845</td>\n",
       "    </tr>\n",
       "    <tr>\n",
       "      <th>3</th>\n",
       "      <td>26</td>\n",
       "      <td>34000</td>\n",
       "      <td>NaT</td>\n",
       "      <td>5.0</td>\n",
       "      <td>[44.7, 3.9845]</td>\n",
       "      <td>44.7</td>\n",
       "      <td>3.9845</td>\n",
       "    </tr>\n",
       "    <tr>\n",
       "      <th>4</th>\n",
       "      <td>26</td>\n",
       "      <td>06000</td>\n",
       "      <td>NaT</td>\n",
       "      <td>3000.0</td>\n",
       "      <td>[44.7, 3.9845]</td>\n",
       "      <td>44.7</td>\n",
       "      <td>3.9845</td>\n",
       "    </tr>\n",
       "  </tbody>\n",
       "</table>\n",
       "</div>"
      ],
      "text/plain": [
       "   age zipcode       date   price             gps  latitude  longitude\n",
       "0   24   34000 2021-01-01    -3.4  [44.7, 3.9845]      44.7     3.9845\n",
       "1   24   34070 2021-02-02     3.4  [44.7, 3.9845]      44.7     3.9845\n",
       "2   26     nan 2021-02-02     3.4  [44.7, 3.9845]      44.7     3.9845\n",
       "3   26   34000        NaT     5.0  [44.7, 3.9845]      44.7     3.9845\n",
       "4   26   06000        NaT  3000.0  [44.7, 3.9845]      44.7     3.9845"
      ]
     },
     "execution_count": 177,
     "metadata": {},
     "output_type": "execute_result"
    }
   ],
   "source": [
    "#show formatted_df\n",
    "formatted_df = formatAll(fake_df)\n",
    "formatted_df.head()"
   ]
  },
  {
   "cell_type": "markdown",
   "metadata": {},
   "source": [
    "# Do we have the target ?"
   ]
  },
  {
   "cell_type": "markdown",
   "metadata": {},
   "source": [
    "We might have a slight difference between the two dataframe for two reasons:\n",
    "- We round the age using the int() method\n",
    "- We have several nan values"
   ]
  },
  {
   "cell_type": "code",
   "execution_count": 178,
   "metadata": {},
   "outputs": [
    {
     "data": {
      "text/html": [
       "<div>\n",
       "<style scoped>\n",
       "    .dataframe tbody tr th:only-of-type {\n",
       "        vertical-align: middle;\n",
       "    }\n",
       "\n",
       "    .dataframe tbody tr th {\n",
       "        vertical-align: top;\n",
       "    }\n",
       "\n",
       "    .dataframe thead th {\n",
       "        text-align: right;\n",
       "    }\n",
       "</style>\n",
       "<table border=\"1\" class=\"dataframe\">\n",
       "  <thead>\n",
       "    <tr style=\"text-align: right;\">\n",
       "      <th></th>\n",
       "      <th>age</th>\n",
       "      <th>zipcode</th>\n",
       "      <th>date</th>\n",
       "      <th>price</th>\n",
       "      <th>gps</th>\n",
       "      <th>latitude</th>\n",
       "      <th>longitude</th>\n",
       "    </tr>\n",
       "  </thead>\n",
       "  <tbody>\n",
       "    <tr>\n",
       "      <th>0</th>\n",
       "      <td>True</td>\n",
       "      <td>True</td>\n",
       "      <td>True</td>\n",
       "      <td>True</td>\n",
       "      <td>True</td>\n",
       "      <td>True</td>\n",
       "      <td>True</td>\n",
       "    </tr>\n",
       "    <tr>\n",
       "      <th>1</th>\n",
       "      <td>False</td>\n",
       "      <td>True</td>\n",
       "      <td>True</td>\n",
       "      <td>True</td>\n",
       "      <td>True</td>\n",
       "      <td>True</td>\n",
       "      <td>True</td>\n",
       "    </tr>\n",
       "    <tr>\n",
       "      <th>2</th>\n",
       "      <td>True</td>\n",
       "      <td>False</td>\n",
       "      <td>True</td>\n",
       "      <td>True</td>\n",
       "      <td>True</td>\n",
       "      <td>True</td>\n",
       "      <td>True</td>\n",
       "    </tr>\n",
       "    <tr>\n",
       "      <th>3</th>\n",
       "      <td>True</td>\n",
       "      <td>True</td>\n",
       "      <td>False</td>\n",
       "      <td>True</td>\n",
       "      <td>True</td>\n",
       "      <td>True</td>\n",
       "      <td>True</td>\n",
       "    </tr>\n",
       "    <tr>\n",
       "      <th>4</th>\n",
       "      <td>False</td>\n",
       "      <td>True</td>\n",
       "      <td>False</td>\n",
       "      <td>True</td>\n",
       "      <td>True</td>\n",
       "      <td>True</td>\n",
       "      <td>True</td>\n",
       "    </tr>\n",
       "    <tr>\n",
       "      <th>5</th>\n",
       "      <td>&lt;NA&gt;</td>\n",
       "      <td>True</td>\n",
       "      <td>True</td>\n",
       "      <td>True</td>\n",
       "      <td>True</td>\n",
       "      <td>True</td>\n",
       "      <td>True</td>\n",
       "    </tr>\n",
       "    <tr>\n",
       "      <th>6</th>\n",
       "      <td>&lt;NA&gt;</td>\n",
       "      <td>True</td>\n",
       "      <td>True</td>\n",
       "      <td>False</td>\n",
       "      <td>True</td>\n",
       "      <td>True</td>\n",
       "      <td>True</td>\n",
       "    </tr>\n",
       "    <tr>\n",
       "      <th>7</th>\n",
       "      <td>True</td>\n",
       "      <td>False</td>\n",
       "      <td>True</td>\n",
       "      <td>True</td>\n",
       "      <td>False</td>\n",
       "      <td>False</td>\n",
       "      <td>False</td>\n",
       "    </tr>\n",
       "    <tr>\n",
       "      <th>8</th>\n",
       "      <td>True</td>\n",
       "      <td>True</td>\n",
       "      <td>True</td>\n",
       "      <td>True</td>\n",
       "      <td>True</td>\n",
       "      <td>True</td>\n",
       "      <td>True</td>\n",
       "    </tr>\n",
       "    <tr>\n",
       "      <th>9</th>\n",
       "      <td>True</td>\n",
       "      <td>True</td>\n",
       "      <td>False</td>\n",
       "      <td>True</td>\n",
       "      <td>True</td>\n",
       "      <td>True</td>\n",
       "      <td>True</td>\n",
       "    </tr>\n",
       "  </tbody>\n",
       "</table>\n",
       "</div>"
      ],
      "text/plain": [
       "     age  zipcode   date  price    gps  latitude  longitude\n",
       "0   True     True   True   True   True      True       True\n",
       "1  False     True   True   True   True      True       True\n",
       "2   True    False   True   True   True      True       True\n",
       "3   True     True  False   True   True      True       True\n",
       "4  False     True  False   True   True      True       True\n",
       "5   <NA>     True   True   True   True      True       True\n",
       "6   <NA>     True   True  False   True      True       True\n",
       "7   True    False   True   True  False     False      False\n",
       "8   True     True   True   True   True      True       True\n",
       "9   True     True  False   True   True      True       True"
      ]
     },
     "execution_count": 178,
     "metadata": {},
     "output_type": "execute_result"
    }
   ],
   "source": [
    "# compare results between target_df and  formatted_df\n",
    "target_df==formatted_df"
   ]
  },
  {
   "cell_type": "markdown",
   "metadata": {},
   "source": [
    "# Save the fake csv file as csv and load it\n",
    " - with header\n",
    " - with ';' as delimeter"
   ]
  },
  {
   "cell_type": "code",
   "execution_count": 179,
   "metadata": {},
   "outputs": [],
   "source": [
    "FAKE_CSV_PATH = 'fake.csv'"
   ]
  },
  {
   "cell_type": "code",
   "execution_count": 180,
   "metadata": {},
   "outputs": [],
   "source": [
    "formatted_df.to_csv(FAKE_CSV_PATH,index=False,sep=';',header=True)"
   ]
  },
  {
   "cell_type": "code",
   "execution_count": 181,
   "metadata": {},
   "outputs": [
    {
     "data": {
      "text/html": [
       "<div>\n",
       "<style scoped>\n",
       "    .dataframe tbody tr th:only-of-type {\n",
       "        vertical-align: middle;\n",
       "    }\n",
       "\n",
       "    .dataframe tbody tr th {\n",
       "        vertical-align: top;\n",
       "    }\n",
       "\n",
       "    .dataframe thead th {\n",
       "        text-align: right;\n",
       "    }\n",
       "</style>\n",
       "<table border=\"1\" class=\"dataframe\">\n",
       "  <thead>\n",
       "    <tr style=\"text-align: right;\">\n",
       "      <th></th>\n",
       "      <th>age</th>\n",
       "      <th>zipcode</th>\n",
       "      <th>date</th>\n",
       "      <th>price</th>\n",
       "      <th>gps</th>\n",
       "      <th>latitude</th>\n",
       "      <th>longitude</th>\n",
       "    </tr>\n",
       "  </thead>\n",
       "  <tbody>\n",
       "    <tr>\n",
       "      <th>0</th>\n",
       "      <td>24.0</td>\n",
       "      <td>34000.0</td>\n",
       "      <td>2021-01-01</td>\n",
       "      <td>-3.4</td>\n",
       "      <td>[44.7, 3.9845]</td>\n",
       "      <td>44.7</td>\n",
       "      <td>3.9845</td>\n",
       "    </tr>\n",
       "    <tr>\n",
       "      <th>1</th>\n",
       "      <td>24.0</td>\n",
       "      <td>34070.0</td>\n",
       "      <td>2021-02-02</td>\n",
       "      <td>3.4</td>\n",
       "      <td>[44.7, 3.9845]</td>\n",
       "      <td>44.7</td>\n",
       "      <td>3.9845</td>\n",
       "    </tr>\n",
       "    <tr>\n",
       "      <th>2</th>\n",
       "      <td>26.0</td>\n",
       "      <td>NaN</td>\n",
       "      <td>2021-02-02</td>\n",
       "      <td>3.4</td>\n",
       "      <td>[44.7, 3.9845]</td>\n",
       "      <td>44.7</td>\n",
       "      <td>3.9845</td>\n",
       "    </tr>\n",
       "    <tr>\n",
       "      <th>3</th>\n",
       "      <td>26.0</td>\n",
       "      <td>34000.0</td>\n",
       "      <td>NaN</td>\n",
       "      <td>5.0</td>\n",
       "      <td>[44.7, 3.9845]</td>\n",
       "      <td>44.7</td>\n",
       "      <td>3.9845</td>\n",
       "    </tr>\n",
       "    <tr>\n",
       "      <th>4</th>\n",
       "      <td>26.0</td>\n",
       "      <td>6000.0</td>\n",
       "      <td>NaN</td>\n",
       "      <td>3000.0</td>\n",
       "      <td>[44.7, 3.9845]</td>\n",
       "      <td>44.7</td>\n",
       "      <td>3.9845</td>\n",
       "    </tr>\n",
       "  </tbody>\n",
       "</table>\n",
       "</div>"
      ],
      "text/plain": [
       "    age  zipcode        date   price             gps  latitude  longitude\n",
       "0  24.0  34000.0  2021-01-01    -3.4  [44.7, 3.9845]      44.7     3.9845\n",
       "1  24.0  34070.0  2021-02-02     3.4  [44.7, 3.9845]      44.7     3.9845\n",
       "2  26.0      NaN  2021-02-02     3.4  [44.7, 3.9845]      44.7     3.9845\n",
       "3  26.0  34000.0         NaN     5.0  [44.7, 3.9845]      44.7     3.9845\n",
       "4  26.0   6000.0         NaN  3000.0  [44.7, 3.9845]      44.7     3.9845"
      ]
     },
     "execution_count": 181,
     "metadata": {},
     "output_type": "execute_result"
    }
   ],
   "source": [
    "# read it and print it\n",
    "df = pd.read_csv(\"fake.csv\",sep=';')\n",
    "df.head()"
   ]
  },
  {
   "cell_type": "markdown",
   "metadata": {},
   "source": [
    "Note: All typing is gone in the process (with csv)"
   ]
  },
  {
   "cell_type": "markdown",
   "metadata": {},
   "source": [
    "# Wrap load and format in one function"
   ]
  },
  {
   "cell_type": "code",
   "execution_count": 182,
   "metadata": {},
   "outputs": [],
   "source": [
    "#def load_formatted_dataframe(path=FAKE_CSV_PATH):\n",
    "#Open it, formatted it\n",
    "#print it \n",
    "def load_formmated_dataframe(path=FAKE_CSV_PATH):\n",
    "    \"\"\"Load the csv file into a df and format it\n",
    "    \n",
    "    Args: \n",
    "        -path: name of the file or path to the file\n",
    "        \n",
    "    Returns:\n",
    "        -Formatted DF\"\"\"\n",
    "    work_df=pd.read_csv(path,sep=';')\n",
    "    work_df['zipcode']=work_df['zipcode'].astype('Int64')\n",
    "    formatAll(work_df)\n",
    "\n",
    "    return work_df\n",
    " "
   ]
  },
  {
   "cell_type": "code",
   "execution_count": 185,
   "metadata": {},
   "outputs": [
    {
     "name": "stderr",
     "output_type": "stream",
     "text": [
      "C:\\Users\\Gabriel\\AppData\\Local\\Temp/ipykernel_3032/889001280.py:11: VisibleDeprecationWarning: Creating an ndarray from ragged nested sequences (which is a list-or-tuple of lists-or-tuples-or ndarrays with different lengths or shapes) is deprecated. If you meant to do this, you must specify 'dtype=object' when creating the ndarray.\n",
      "  df[colname] = np.array([json.loads(val) if isinstance(val,str) else val for val in df[colname]])\n",
      "C:\\Users\\Gabriel\\AppData\\Local\\Temp/ipykernel_3032/889001280.py:12: VisibleDeprecationWarning: Creating an ndarray from ragged nested sequences (which is a list-or-tuple of lists-or-tuples-or ndarrays with different lengths or shapes) is deprecated. If you meant to do this, you must specify 'dtype=object' when creating the ndarray.\n",
      "  df[colname] = np.array([np.nan if isinstance(val,int) else val for val in df[colname]])\n"
     ]
    },
    {
     "data": {
      "text/html": [
       "<div>\n",
       "<style scoped>\n",
       "    .dataframe tbody tr th:only-of-type {\n",
       "        vertical-align: middle;\n",
       "    }\n",
       "\n",
       "    .dataframe tbody tr th {\n",
       "        vertical-align: top;\n",
       "    }\n",
       "\n",
       "    .dataframe thead th {\n",
       "        text-align: right;\n",
       "    }\n",
       "</style>\n",
       "<table border=\"1\" class=\"dataframe\">\n",
       "  <thead>\n",
       "    <tr style=\"text-align: right;\">\n",
       "      <th></th>\n",
       "      <th>age</th>\n",
       "      <th>zipcode</th>\n",
       "      <th>date</th>\n",
       "      <th>price</th>\n",
       "      <th>gps</th>\n",
       "      <th>latitude</th>\n",
       "      <th>longitude</th>\n",
       "    </tr>\n",
       "  </thead>\n",
       "  <tbody>\n",
       "    <tr>\n",
       "      <th>0</th>\n",
       "      <td>24</td>\n",
       "      <td>34000</td>\n",
       "      <td>2021-01-01</td>\n",
       "      <td>-3.4</td>\n",
       "      <td>[44.7, 3.9845]</td>\n",
       "      <td>44.7</td>\n",
       "      <td>3.9845</td>\n",
       "    </tr>\n",
       "    <tr>\n",
       "      <th>1</th>\n",
       "      <td>24</td>\n",
       "      <td>34070</td>\n",
       "      <td>2021-02-02</td>\n",
       "      <td>3.4</td>\n",
       "      <td>[44.7, 3.9845]</td>\n",
       "      <td>44.7</td>\n",
       "      <td>3.9845</td>\n",
       "    </tr>\n",
       "    <tr>\n",
       "      <th>2</th>\n",
       "      <td>26</td>\n",
       "      <td>nan</td>\n",
       "      <td>2021-02-02</td>\n",
       "      <td>3.4</td>\n",
       "      <td>[44.7, 3.9845]</td>\n",
       "      <td>44.7</td>\n",
       "      <td>3.9845</td>\n",
       "    </tr>\n",
       "    <tr>\n",
       "      <th>3</th>\n",
       "      <td>26</td>\n",
       "      <td>34000</td>\n",
       "      <td>NaT</td>\n",
       "      <td>5.0</td>\n",
       "      <td>[44.7, 3.9845]</td>\n",
       "      <td>44.7</td>\n",
       "      <td>3.9845</td>\n",
       "    </tr>\n",
       "    <tr>\n",
       "      <th>4</th>\n",
       "      <td>26</td>\n",
       "      <td>06000</td>\n",
       "      <td>NaT</td>\n",
       "      <td>3000.0</td>\n",
       "      <td>[44.7, 3.9845]</td>\n",
       "      <td>44.7</td>\n",
       "      <td>3.9845</td>\n",
       "    </tr>\n",
       "    <tr>\n",
       "      <th>5</th>\n",
       "      <td>&lt;NA&gt;</td>\n",
       "      <td>06000</td>\n",
       "      <td>2021-01-01</td>\n",
       "      <td>4.0</td>\n",
       "      <td>[44.7, 3.9845]</td>\n",
       "      <td>44.7</td>\n",
       "      <td>3.9845</td>\n",
       "    </tr>\n",
       "    <tr>\n",
       "      <th>6</th>\n",
       "      <td>&lt;NA&gt;</td>\n",
       "      <td>06000</td>\n",
       "      <td>2021-01-01</td>\n",
       "      <td>NaN</td>\n",
       "      <td>[44.7, 3.9845]</td>\n",
       "      <td>44.7</td>\n",
       "      <td>3.9845</td>\n",
       "    </tr>\n",
       "    <tr>\n",
       "      <th>7</th>\n",
       "      <td>250</td>\n",
       "      <td>60000</td>\n",
       "      <td>1930-01-01</td>\n",
       "      <td>-17.4</td>\n",
       "      <td>NaN</td>\n",
       "      <td>NaN</td>\n",
       "      <td>NaN</td>\n",
       "    </tr>\n",
       "    <tr>\n",
       "      <th>8</th>\n",
       "      <td>0</td>\n",
       "      <td>99999</td>\n",
       "      <td>2221-01-01</td>\n",
       "      <td>-17.2</td>\n",
       "      <td>[44.7, 3.9845]</td>\n",
       "      <td>44.7</td>\n",
       "      <td>3.9845</td>\n",
       "    </tr>\n",
       "    <tr>\n",
       "      <th>9</th>\n",
       "      <td>-22</td>\n",
       "      <td>03400</td>\n",
       "      <td>NaT</td>\n",
       "      <td>-2.8</td>\n",
       "      <td>[100, 200]</td>\n",
       "      <td>100.0</td>\n",
       "      <td>200.0000</td>\n",
       "    </tr>\n",
       "  </tbody>\n",
       "</table>\n",
       "</div>"
      ],
      "text/plain": [
       "    age zipcode       date   price             gps  latitude  longitude\n",
       "0    24   34000 2021-01-01    -3.4  [44.7, 3.9845]      44.7     3.9845\n",
       "1    24   34070 2021-02-02     3.4  [44.7, 3.9845]      44.7     3.9845\n",
       "2    26     nan 2021-02-02     3.4  [44.7, 3.9845]      44.7     3.9845\n",
       "3    26   34000        NaT     5.0  [44.7, 3.9845]      44.7     3.9845\n",
       "4    26   06000        NaT  3000.0  [44.7, 3.9845]      44.7     3.9845\n",
       "5  <NA>   06000 2021-01-01     4.0  [44.7, 3.9845]      44.7     3.9845\n",
       "6  <NA>   06000 2021-01-01     NaN  [44.7, 3.9845]      44.7     3.9845\n",
       "7   250   60000 1930-01-01   -17.4             NaN       NaN        NaN\n",
       "8     0   99999 2221-01-01   -17.2  [44.7, 3.9845]      44.7     3.9845\n",
       "9   -22   03400        NaT    -2.8      [100, 200]     100.0   200.0000"
      ]
     },
     "execution_count": 185,
     "metadata": {},
     "output_type": "execute_result"
    }
   ],
   "source": [
    "#Compare the results\n",
    "work_df=load_formmated_dataframe(path=\"fake.csv\")\n",
    "work_df.head(10)"
   ]
  },
  {
   "cell_type": "code",
   "execution_count": 184,
   "metadata": {},
   "outputs": [
    {
     "data": {
      "text/html": [
       "<div>\n",
       "<style scoped>\n",
       "    .dataframe tbody tr th:only-of-type {\n",
       "        vertical-align: middle;\n",
       "    }\n",
       "\n",
       "    .dataframe tbody tr th {\n",
       "        vertical-align: top;\n",
       "    }\n",
       "\n",
       "    .dataframe thead th {\n",
       "        text-align: right;\n",
       "    }\n",
       "</style>\n",
       "<table border=\"1\" class=\"dataframe\">\n",
       "  <thead>\n",
       "    <tr style=\"text-align: right;\">\n",
       "      <th></th>\n",
       "      <th>age</th>\n",
       "      <th>zipcode</th>\n",
       "      <th>date</th>\n",
       "      <th>price</th>\n",
       "      <th>gps</th>\n",
       "      <th>latitude</th>\n",
       "      <th>longitude</th>\n",
       "    </tr>\n",
       "  </thead>\n",
       "  <tbody>\n",
       "    <tr>\n",
       "      <th>0</th>\n",
       "      <td>True</td>\n",
       "      <td>True</td>\n",
       "      <td>True</td>\n",
       "      <td>True</td>\n",
       "      <td>True</td>\n",
       "      <td>True</td>\n",
       "      <td>True</td>\n",
       "    </tr>\n",
       "    <tr>\n",
       "      <th>1</th>\n",
       "      <td>False</td>\n",
       "      <td>True</td>\n",
       "      <td>True</td>\n",
       "      <td>True</td>\n",
       "      <td>True</td>\n",
       "      <td>True</td>\n",
       "      <td>True</td>\n",
       "    </tr>\n",
       "    <tr>\n",
       "      <th>2</th>\n",
       "      <td>True</td>\n",
       "      <td>False</td>\n",
       "      <td>True</td>\n",
       "      <td>True</td>\n",
       "      <td>True</td>\n",
       "      <td>True</td>\n",
       "      <td>True</td>\n",
       "    </tr>\n",
       "    <tr>\n",
       "      <th>3</th>\n",
       "      <td>True</td>\n",
       "      <td>True</td>\n",
       "      <td>False</td>\n",
       "      <td>True</td>\n",
       "      <td>True</td>\n",
       "      <td>True</td>\n",
       "      <td>True</td>\n",
       "    </tr>\n",
       "    <tr>\n",
       "      <th>4</th>\n",
       "      <td>False</td>\n",
       "      <td>True</td>\n",
       "      <td>False</td>\n",
       "      <td>True</td>\n",
       "      <td>True</td>\n",
       "      <td>True</td>\n",
       "      <td>True</td>\n",
       "    </tr>\n",
       "    <tr>\n",
       "      <th>5</th>\n",
       "      <td>&lt;NA&gt;</td>\n",
       "      <td>True</td>\n",
       "      <td>True</td>\n",
       "      <td>True</td>\n",
       "      <td>True</td>\n",
       "      <td>True</td>\n",
       "      <td>True</td>\n",
       "    </tr>\n",
       "    <tr>\n",
       "      <th>6</th>\n",
       "      <td>&lt;NA&gt;</td>\n",
       "      <td>True</td>\n",
       "      <td>True</td>\n",
       "      <td>False</td>\n",
       "      <td>True</td>\n",
       "      <td>True</td>\n",
       "      <td>True</td>\n",
       "    </tr>\n",
       "    <tr>\n",
       "      <th>7</th>\n",
       "      <td>True</td>\n",
       "      <td>False</td>\n",
       "      <td>True</td>\n",
       "      <td>True</td>\n",
       "      <td>False</td>\n",
       "      <td>False</td>\n",
       "      <td>False</td>\n",
       "    </tr>\n",
       "    <tr>\n",
       "      <th>8</th>\n",
       "      <td>True</td>\n",
       "      <td>True</td>\n",
       "      <td>True</td>\n",
       "      <td>True</td>\n",
       "      <td>True</td>\n",
       "      <td>True</td>\n",
       "      <td>True</td>\n",
       "    </tr>\n",
       "    <tr>\n",
       "      <th>9</th>\n",
       "      <td>True</td>\n",
       "      <td>True</td>\n",
       "      <td>False</td>\n",
       "      <td>True</td>\n",
       "      <td>True</td>\n",
       "      <td>True</td>\n",
       "      <td>True</td>\n",
       "    </tr>\n",
       "  </tbody>\n",
       "</table>\n",
       "</div>"
      ],
      "text/plain": [
       "     age  zipcode   date  price    gps  latitude  longitude\n",
       "0   True     True   True   True   True      True       True\n",
       "1  False     True   True   True   True      True       True\n",
       "2   True    False   True   True   True      True       True\n",
       "3   True     True  False   True   True      True       True\n",
       "4  False     True  False   True   True      True       True\n",
       "5   <NA>     True   True   True   True      True       True\n",
       "6   <NA>     True   True  False   True      True       True\n",
       "7   True    False   True   True  False     False      False\n",
       "8   True     True   True   True   True      True       True\n",
       "9   True     True  False   True   True      True       True"
      ]
     },
     "execution_count": 184,
     "metadata": {},
     "output_type": "execute_result"
    }
   ],
   "source": [
    "work_df == target_df"
   ]
  },
  {
   "cell_type": "code",
   "execution_count": null,
   "metadata": {},
   "outputs": [],
   "source": []
  }
 ],
 "metadata": {
  "kernelspec": {
   "display_name": "Python 3",
   "language": "python",
   "name": "python3"
  },
  "language_info": {
   "codemirror_mode": {
    "name": "ipython",
    "version": 3
   },
   "file_extension": ".py",
   "mimetype": "text/x-python",
   "name": "python",
   "nbconvert_exporter": "python",
   "pygments_lexer": "ipython3",
   "version": "3.9.12"
  }
 },
 "nbformat": 4,
 "nbformat_minor": 2
}
